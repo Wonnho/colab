{
  "nbformat": 4,
  "nbformat_minor": 0,
  "metadata": {
    "colab": {
      "name": "function_lambda_day2_3.ipynb",
      "provenance": [],
      "collapsed_sections": [],
      "toc_visible": true,
      "mount_file_id": "1WlwtDiTz4QAP5fOitoBW2mSWV6BifzXd",
      "authorship_tag": "ABX9TyPCu6ODKZ3GGTtKXsaxqunS",
      "include_colab_link": true
    },
    "kernelspec": {
      "name": "python3",
      "display_name": "Python 3"
    },
    "language_info": {
      "name": "python"
    }
  },
  "cells": [
    {
      "cell_type": "markdown",
      "metadata": {
        "id": "view-in-github",
        "colab_type": "text"
      },
      "source": [
        "<a href=\"https://colab.research.google.com/github/Wonnho/colab/blob/main/function_lambda_day2_3.ipynb\" target=\"_parent\"><img src=\"https://colab.research.google.com/assets/colab-badge.svg\" alt=\"Open In Colab\"/></a>"
      ]
    },
    {
      "cell_type": "code",
      "source": [
        "a=-3\n",
        "if a>0:\n",
        "    print('positive')\n",
        "else:\n",
        "    print('0 or negatvie')"
      ],
      "metadata": {
        "id": "rTrhNYEzeyto"
      },
      "execution_count": null,
      "outputs": []
    },
    {
      "cell_type": "code",
      "source": [
        ""
      ],
      "metadata": {
        "id": "RS_8WdIIezR5"
      },
      "execution_count": null,
      "outputs": []
    },
    {
      "cell_type": "code",
      "source": [
        "#comprehension"
      ],
      "metadata": {
        "id": "MiB4yVpQezUi"
      },
      "execution_count": null,
      "outputs": []
    },
    {
      "cell_type": "code",
      "source": [
        "K=[n for n in range(1,6) if n%2==1]"
      ],
      "metadata": {
        "id": "MdEv1ysjezfc"
      },
      "execution_count": null,
      "outputs": []
    },
    {
      "cell_type": "code",
      "source": [
        "L=[]\n",
        "for n in range(1,5):\n",
        "    if n%2==1:\n",
        "        L.append(n)"
      ],
      "metadata": {
        "id": "iKNm9FAIeziT"
      },
      "execution_count": null,
      "outputs": []
    },
    {
      "cell_type": "code",
      "source": [
        "L"
      ],
      "metadata": {
        "colab": {
          "base_uri": "https://localhost:8080/"
        },
        "id": "AWPvfTwbuBst",
        "outputId": "fef3d75e-63e7-45c0-846c-64efff82adfa"
      },
      "execution_count": null,
      "outputs": [
        {
          "output_type": "execute_result",
          "data": {
            "text/plain": [
              "[1, 3]"
            ]
          },
          "metadata": {},
          "execution_count": 10
        }
      ]
    },
    {
      "cell_type": "code",
      "source": [
        ""
      ],
      "metadata": {
        "id": "SHV5GdDcuBvT"
      },
      "execution_count": null,
      "outputs": []
    },
    {
      "cell_type": "code",
      "source": [
        ""
      ],
      "metadata": {
        "id": "CfntuXYEuBx6"
      },
      "execution_count": null,
      "outputs": []
    },
    {
      "cell_type": "code",
      "source": [
        ""
      ],
      "metadata": {
        "id": "3a32QjBjuB0j"
      },
      "execution_count": null,
      "outputs": []
    },
    {
      "cell_type": "code",
      "source": [
        ""
      ],
      "metadata": {
        "id": "PiqlwO7PuB3K"
      },
      "execution_count": null,
      "outputs": []
    },
    {
      "cell_type": "code",
      "source": [
        ""
      ],
      "metadata": {
        "id": "c_Rc0WTduB6R"
      },
      "execution_count": null,
      "outputs": []
    },
    {
      "cell_type": "code",
      "source": [
        ""
      ],
      "metadata": {
        "id": "8ziIr059ezlb"
      },
      "execution_count": null,
      "outputs": []
    },
    {
      "cell_type": "code",
      "execution_count": null,
      "metadata": {
        "id": "NNkLVO7Vxlxj"
      },
      "outputs": [],
      "source": [
        "#Function"
      ]
    },
    {
      "cell_type": "code",
      "source": [
        "def say_hello():\n",
        "    print('learn about function')"
      ],
      "metadata": {
        "id": "5_hEgwZCxonh"
      },
      "execution_count": null,
      "outputs": []
    },
    {
      "cell_type": "code",
      "source": [
        "def qr(x,y=1):\n",
        "    q,r=0,0\n",
        "    while True:\n",
        "        x -=y\n",
        "        if x>0:\n",
        "            q +=1\n",
        "        elif x<0:\n",
        "            r=y+x\n",
        "            break\n",
        "        else:\n",
        "            q +=1\n",
        "            break\n",
        "    return(q,r)"
      ],
      "metadata": {
        "id": "4G6qm2TVxoqK"
      },
      "execution_count": null,
      "outputs": []
    },
    {
      "cell_type": "code",
      "source": [
        "qr(4)"
      ],
      "metadata": {
        "colab": {
          "base_uri": "https://localhost:8080/"
        },
        "id": "8KNuJvorxotT",
        "outputId": "3d0b7869-46d0-4e84-9438-63f41d104a9b"
      },
      "execution_count": null,
      "outputs": [
        {
          "output_type": "execute_result",
          "data": {
            "text/plain": [
              "(4, 0)"
            ]
          },
          "metadata": {},
          "execution_count": 3
        }
      ]
    },
    {
      "cell_type": "code",
      "source": [
        "#몫과 나머지를 구함"
      ],
      "metadata": {
        "id": "LHCEz8DIy9St"
      },
      "execution_count": null,
      "outputs": []
    },
    {
      "cell_type": "code",
      "source": [
        ""
      ],
      "metadata": {
        "id": "5pungMZzzeGV"
      },
      "execution_count": null,
      "outputs": []
    },
    {
      "cell_type": "code",
      "source": [
        "def say(message='Sunday',times=1):\n",
        "    print(message*times)\n",
        "\n",
        "say()"
      ],
      "metadata": {
        "colab": {
          "base_uri": "https://localhost:8080/"
        },
        "id": "5TjVpqdl0iQv",
        "outputId": "a5248b97-e104-4796-bdb3-3c219c2175da"
      },
      "execution_count": null,
      "outputs": [
        {
          "output_type": "stream",
          "name": "stdout",
          "text": [
            "Sunday\n"
          ]
        }
      ]
    },
    {
      "cell_type": "code",
      "source": [
        "say('Functor')"
      ],
      "metadata": {
        "colab": {
          "base_uri": "https://localhost:8080/"
        },
        "id": "uiLRyRAZzeqi",
        "outputId": "f23759dd-0777-420e-9f50-ca00d0b9153b"
      },
      "execution_count": null,
      "outputs": [
        {
          "output_type": "stream",
          "name": "stdout",
          "text": [
            "Functor\n"
          ]
        }
      ]
    },
    {
      "cell_type": "code",
      "source": [
        ""
      ],
      "metadata": {
        "id": "rVkp4jCUzesH"
      },
      "execution_count": null,
      "outputs": []
    },
    {
      "cell_type": "code",
      "source": [
        ""
      ],
      "metadata": {
        "id": "eFdi8JKvzeu-"
      },
      "execution_count": null,
      "outputs": []
    },
    {
      "cell_type": "code",
      "source": [
        "#위치 인자"
      ],
      "metadata": {
        "id": "7kEgKZod0iTT"
      },
      "execution_count": null,
      "outputs": []
    },
    {
      "cell_type": "code",
      "source": [
        ""
      ],
      "metadata": {
        "id": "HJ5CzfJh0kiX"
      },
      "execution_count": null,
      "outputs": []
    },
    {
      "cell_type": "code",
      "source": [
        "#키워드 인자"
      ],
      "metadata": {
        "id": "xzj7_Kxn0klF"
      },
      "execution_count": null,
      "outputs": []
    },
    {
      "cell_type": "code",
      "source": [
        ""
      ],
      "metadata": {
        "id": "zis5Iu0s0m3s"
      },
      "execution_count": null,
      "outputs": []
    },
    {
      "cell_type": "code",
      "source": [
        "#lambda"
      ],
      "metadata": {
        "id": "imWpFnHT0m6U"
      },
      "execution_count": null,
      "outputs": []
    },
    {
      "cell_type": "code",
      "source": [
        "def plus(x,y):\n",
        "    return x+y\n",
        "plus(3,4)"
      ],
      "metadata": {
        "colab": {
          "base_uri": "https://localhost:8080/"
        },
        "id": "pqFZTkhw1jNE",
        "outputId": "1295f037-2cc4-418d-c890-fd6d67487a08"
      },
      "execution_count": null,
      "outputs": [
        {
          "output_type": "execute_result",
          "data": {
            "text/plain": [
              "7"
            ]
          },
          "metadata": {},
          "execution_count": 4
        }
      ]
    },
    {
      "cell_type": "code",
      "source": [
        "p=lambda x,y:x+y\n",
        "p(3,4)"
      ],
      "metadata": {
        "colab": {
          "base_uri": "https://localhost:8080/"
        },
        "id": "TGBKgu2A1jPn",
        "outputId": "0749dbd5-78b1-4ae8-cbb7-f4625b17f685"
      },
      "execution_count": null,
      "outputs": [
        {
          "output_type": "execute_result",
          "data": {
            "text/plain": [
              "7"
            ]
          },
          "metadata": {},
          "execution_count": 5
        }
      ]
    },
    {
      "cell_type": "code",
      "source": [
        "#module"
      ],
      "metadata": {
        "id": "m2f0wl1ozeJ9"
      },
      "execution_count": null,
      "outputs": []
    },
    {
      "cell_type": "code",
      "source": [
        "# Fibonacci numbers module\n",
        "\n",
        "def fib(n):    # write Fibonacci series up to n\n",
        "    a, b = 0, 1\n",
        "    while a < n:\n",
        "        print(a, end=' ')\n",
        "        a, b = b, a+b\n",
        "\n",
        "def fib2(n):   # return Fibonacci series up to n\n",
        "    result = []\n",
        "    a, b = 0, 1\n",
        "    while a < n:\n",
        "        result.append(a)\n",
        "        a, b = b, a+b\n",
        "\n",
        "    return result\n",
        "\n",
        "if __name__ == '__main__':\n",
        "    print(fib2(10))\n",
        "\n",
        "# 이 파일을 현재 폴더에 fibo.py로 저장하고\n",
        "# import fibo\n",
        "# from fibo import fib, fib2\n",
        "# https://docs.python.org/ko/3/tutorial/modules.html"
      ],
      "metadata": {
        "id": "JedTF9Io157s"
      },
      "execution_count": null,
      "outputs": []
    },
    {
      "cell_type": "code",
      "source": [
        ""
      ],
      "metadata": {
        "id": "rns0Gr-S1ZJE"
      },
      "execution_count": null,
      "outputs": []
    },
    {
      "cell_type": "code",
      "source": [
        "import fibonacci as fibo"
      ],
      "metadata": {
        "id": "XgljGepk1ZLo"
      },
      "execution_count": 16,
      "outputs": []
    },
    {
      "cell_type": "code",
      "source": [
        "fibo.fib(10)"
      ],
      "metadata": {
        "colab": {
          "base_uri": "https://localhost:8080/"
        },
        "id": "RAnX-CKB1ZTc",
        "outputId": "36ae171e-99ac-46cf-c1de-a7edc354597b"
      },
      "execution_count": 18,
      "outputs": [
        {
          "output_type": "stream",
          "name": "stdout",
          "text": [
            "0 1 1 2 3 5 8 "
          ]
        }
      ]
    },
    {
      "cell_type": "code",
      "source": [
        "fibo.fib2(2)"
      ],
      "metadata": {
        "colab": {
          "base_uri": "https://localhost:8080/"
        },
        "id": "ZiHfFVUZ1nUR",
        "outputId": "da5675fc-41af-4920-f109-83eb457ab7a9"
      },
      "execution_count": 21,
      "outputs": [
        {
          "output_type": "execute_result",
          "data": {
            "text/plain": [
              "[0, 1, 1]"
            ]
          },
          "metadata": {},
          "execution_count": 21
        }
      ]
    },
    {
      "cell_type": "code",
      "source": [
        ""
      ],
      "metadata": {
        "id": "vxgpOI0T1nW4"
      },
      "execution_count": null,
      "outputs": []
    },
    {
      "cell_type": "code",
      "source": [
        ""
      ],
      "metadata": {
        "id": "69NsN2kz1naP"
      },
      "execution_count": null,
      "outputs": []
    },
    {
      "cell_type": "code",
      "source": [
        ""
      ],
      "metadata": {
        "id": "k4Be8fDZ1ngy"
      },
      "execution_count": null,
      "outputs": []
    },
    {
      "cell_type": "code",
      "source": [
        ""
      ],
      "metadata": {
        "id": "mxF-oCaU1njm"
      },
      "execution_count": null,
      "outputs": []
    },
    {
      "cell_type": "markdown",
      "source": [
        "# 새 섹션"
      ],
      "metadata": {
        "id": "3WOiX6rg2AZo"
      }
    },
    {
      "cell_type": "code",
      "source": [
        "# contrl+/ :주석해제"
      ],
      "metadata": {
        "id": "DuMMkhNX15-y"
      },
      "execution_count": null,
      "outputs": []
    },
    {
      "cell_type": "code",
      "source": [
        "import fibo"
      ],
      "metadata": {
        "id": "cHQeXrHj16B7"
      },
      "execution_count": null,
      "outputs": []
    },
    {
      "cell_type": "code",
      "source": [
        "fibo.fib(22)"
      ],
      "metadata": {
        "id": "1TakNUu12c7t"
      },
      "execution_count": null,
      "outputs": []
    },
    {
      "cell_type": "code",
      "source": [
        "fibo.fib2(22)"
      ],
      "metadata": {
        "id": "vIbMJfJw2c-0"
      },
      "execution_count": null,
      "outputs": []
    },
    {
      "cell_type": "code",
      "source": [
        ""
      ],
      "metadata": {
        "id": "6krl2wbS2dBc"
      },
      "execution_count": null,
      "outputs": []
    },
    {
      "cell_type": "code",
      "source": [
        "def f369(n):\n",
        "    if type(n) !=int or n<0:\n",
        "        print(\"enter natural number only\")\n",
        "        return None\n",
        "    #######    \n",
        "    a=0\n",
        "    a +=str(n).count('3')\n",
        "    a +=str(n).count('6')\n",
        "    a +=str(n).count('9')\n",
        "    ########\n",
        "    \n",
        "    if a==0:\n",
        "        return n\n",
        "    else:\n",
        "        return '짝'*a"
      ],
      "metadata": {
        "id": "jPjaKVh016Ey"
      },
      "execution_count": 22,
      "outputs": []
    },
    {
      "cell_type": "code",
      "source": [
        "f369(231)"
      ],
      "metadata": {
        "colab": {
          "base_uri": "https://localhost:8080/",
          "height": 36
        },
        "id": "xVFjVFCK16Ho",
        "outputId": "1ff9b73e-71d3-48cc-fd62-cd31d1c765db"
      },
      "execution_count": 23,
      "outputs": [
        {
          "output_type": "execute_result",
          "data": {
            "text/plain": [
              "'짝'"
            ],
            "application/vnd.google.colaboratory.intrinsic+json": {
              "type": "string"
            }
          },
          "metadata": {},
          "execution_count": 23
        }
      ]
    },
    {
      "cell_type": "code",
      "source": [
        ""
      ],
      "metadata": {
        "id": "GXVrmH153uvF"
      },
      "execution_count": null,
      "outputs": []
    },
    {
      "cell_type": "code",
      "source": [
        ""
      ],
      "metadata": {
        "id": "faUUW7kJ3uyM"
      },
      "execution_count": null,
      "outputs": []
    },
    {
      "cell_type": "code",
      "source": [
        ""
      ],
      "metadata": {
        "id": "2S9YarR53u0z"
      },
      "execution_count": null,
      "outputs": []
    },
    {
      "cell_type": "code",
      "source": [
        "#map function 함수를 입력받는 함수\n",
        "#functional program #compare procedural program"
      ],
      "metadata": {
        "id": "U0Diexr64ZKw"
      },
      "execution_count": null,
      "outputs": []
    },
    {
      "cell_type": "code",
      "source": [
        "users=[{'name':'Honggildong','age':35,'job':'teacher'},\n",
        "       {'name':'Jenny','age':53,'job':'households'},\n",
        "       {'name':'Joe','age':15,'job':'worker'}]\n",
        "list(\n",
        "    map(\n",
        "        lambda u:str(u['age']//10*10)+'s',#<=function\n",
        "        users ## iterable\n",
        "        ) \n",
        "    )"
      ],
      "metadata": {
        "colab": {
          "base_uri": "https://localhost:8080/"
        },
        "id": "CBUAbuxh-Q9C",
        "outputId": "471017a3-f22a-4c4b-9c68-6886425f2ee0"
      },
      "execution_count": 24,
      "outputs": [
        {
          "output_type": "execute_result",
          "data": {
            "text/plain": [
              "['30s', '50s', '10s']"
            ]
          },
          "metadata": {},
          "execution_count": 24
        }
      ]
    },
    {
      "cell_type": "code",
      "source": [
        "#functional programming 파이썬은 일부 함수형 프로그램을 지원\n",
        "list(\n",
        "    map(\n",
        "        lambda u:str(u['age']//10*10)+'s', #function\n",
        "                      users   # iterable\n",
        "                      )\n",
        "    )\n"
      ],
      "metadata": {
        "colab": {
          "base_uri": "https://localhost:8080/"
        },
        "id": "6lXp3Ue3EKNP",
        "outputId": "97da044c-89a0-4e8f-bfe2-c6879650886a"
      },
      "execution_count": 29,
      "outputs": [
        {
          "output_type": "execute_result",
          "data": {
            "text/plain": [
              "['30s', '50s', '10s']"
            ]
          },
          "metadata": {},
          "execution_count": 29
        }
      ]
    },
    {
      "cell_type": "code",
      "source": [
        "#변수를 여러개 받음\n",
        "def element_wise_sum(x,y,z):\n",
        "    return x+y+z\n",
        "    \n",
        "list(\n",
        "map(\n",
        "    element_wise_sum,\n",
        "    [2,3,5],[7,9,11],[13,17,22]\n",
        ")\n",
        ")"
      ],
      "metadata": {
        "colab": {
          "base_uri": "https://localhost:8080/"
        },
        "id": "zx7fj_zD-Q_5",
        "outputId": "2381adcd-7a67-4ad7-f420-e89de2116dd7"
      },
      "execution_count": 32,
      "outputs": [
        {
          "output_type": "execute_result",
          "data": {
            "text/plain": [
              "[22, 29, 38]"
            ]
          },
          "metadata": {},
          "execution_count": 32
        }
      ]
    },
    {
      "cell_type": "code",
      "source": [
        "for x,y,z in zip([2,3,5],[7,9,11],[13,17,22]):\n",
        "    print(x,y,z)"
      ],
      "metadata": {
        "colab": {
          "base_uri": "https://localhost:8080/"
        },
        "id": "bvaTZU3a-RC_",
        "outputId": "58577e8b-80f6-4d42-c543-27e3abd3ccc1"
      },
      "execution_count": null,
      "outputs": [
        {
          "output_type": "stream",
          "name": "stdout",
          "text": [
            "2 7 13\n",
            "3 9 17\n",
            "5 11 22\n"
          ]
        }
      ]
    },
    {
      "cell_type": "code",
      "source": [
        "for x,y,z in zip([2,3,5],[7,9,11],[13,17,22]):\n",
        "    print(element_wise_sum(x,y,z))"
      ],
      "metadata": {
        "colab": {
          "base_uri": "https://localhost:8080/"
        },
        "id": "4qsOacaWAeja",
        "outputId": "0dbb515b-d9ab-4312-f8eb-1645cd890ff8"
      },
      "execution_count": null,
      "outputs": [
        {
          "output_type": "stream",
          "name": "stdout",
          "text": [
            "22\n",
            "29\n",
            "38\n"
          ]
        }
      ]
    },
    {
      "cell_type": "code",
      "source": [
        "#Comprehension \n",
        "%%timeit\n",
        "[element_wise_sum(x,y,z)for x,y,z in zip([2,3,5],[7,9,11],[13,17,22])]"
      ],
      "metadata": {
        "colab": {
          "base_uri": "https://localhost:8080/"
        },
        "id": "dSa8ic57Aemx",
        "outputId": "ac888766-915f-4e37-ab35-614fed0af76a"
      },
      "execution_count": null,
      "outputs": [
        {
          "output_type": "stream",
          "name": "stdout",
          "text": [
            "The slowest run took 5.55 times longer than the fastest. This could mean that an intermediate result is being cached.\n",
            "1000000 loops, best of 5: 1.11 µs per loop\n"
          ]
        }
      ]
    },
    {
      "cell_type": "code",
      "source": [
        "[element_wise_sum(x,y,z) for x,y,z in zip([3,4,5],[9,1,3],[7,4,3])]"
      ],
      "metadata": {
        "id": "F8_sgGvNAeru",
        "colab": {
          "base_uri": "https://localhost:8080/"
        },
        "outputId": "7369e505-2ad4-409e-e8d7-35a2852290bc"
      },
      "execution_count": 33,
      "outputs": [
        {
          "output_type": "execute_result",
          "data": {
            "text/plain": [
              "[19, 9, 11]"
            ]
          },
          "metadata": {},
          "execution_count": 33
        }
      ]
    },
    {
      "cell_type": "code",
      "source": [
        "for x,y,z in zip([2,3,5],[5,7,8],[5,44,34]):# list 하나하나가 x,y,z에 할당=>\n",
        "    print(element_wise_sum(x,y,z))#x의 한 원소와 y ,z의 각 한 원소가 더해져 합이 계산"
      ],
      "metadata": {
        "id": "UnM-bOaGCCZ6",
        "colab": {
          "base_uri": "https://localhost:8080/"
        },
        "outputId": "2eb64d55-47ca-4a14-b178-3b7a313ed0c5"
      },
      "execution_count": 36,
      "outputs": [
        {
          "output_type": "stream",
          "name": "stdout",
          "text": [
            "12\n",
            "54\n",
            "47\n"
          ]
        }
      ]
    },
    {
      "cell_type": "code",
      "source": [
        ""
      ],
      "metadata": {
        "id": "AKEoTxlJCCct"
      },
      "execution_count": null,
      "outputs": []
    },
    {
      "cell_type": "code",
      "source": [
        ""
      ],
      "metadata": {
        "id": "Ylq6e_iZCCf2"
      },
      "execution_count": null,
      "outputs": []
    },
    {
      "cell_type": "code",
      "source": [
        ""
      ],
      "metadata": {
        "id": "y7ByYIB6CCrB"
      },
      "execution_count": null,
      "outputs": []
    },
    {
      "cell_type": "code",
      "source": [
        ""
      ],
      "metadata": {
        "id": "8MUoNAATCCt4"
      },
      "execution_count": null,
      "outputs": []
    },
    {
      "cell_type": "code",
      "source": [
        ""
      ],
      "metadata": {
        "id": "75KvlUFXAevW"
      },
      "execution_count": null,
      "outputs": []
    },
    {
      "cell_type": "code",
      "source": [
        ""
      ],
      "metadata": {
        "id": "Lrp2vFUEAeyw"
      },
      "execution_count": null,
      "outputs": []
    },
    {
      "cell_type": "code",
      "source": [
        ""
      ],
      "metadata": {
        "id": "DcEmBErIAe12"
      },
      "execution_count": null,
      "outputs": []
    },
    {
      "cell_type": "code",
      "source": [
        ""
      ],
      "metadata": {
        "id": "tltJGFlE-RFl"
      },
      "execution_count": null,
      "outputs": []
    },
    {
      "cell_type": "code",
      "source": [
        ""
      ],
      "metadata": {
        "id": "y4-7DOky-RKy"
      },
      "execution_count": null,
      "outputs": []
    },
    {
      "cell_type": "code",
      "source": [
        ""
      ],
      "metadata": {
        "id": "ylsJGZtf-RNa"
      },
      "execution_count": null,
      "outputs": []
    },
    {
      "cell_type": "code",
      "source": [
        ""
      ],
      "metadata": {
        "id": "LBQK-pUi9Ru9"
      },
      "execution_count": null,
      "outputs": []
    },
    {
      "cell_type": "code",
      "source": [
        ""
      ],
      "metadata": {
        "id": "AzZnRnhG9Rxd"
      },
      "execution_count": null,
      "outputs": []
    },
    {
      "cell_type": "code",
      "source": [
        ""
      ],
      "metadata": {
        "id": "7iiJR4iV9R0m"
      },
      "execution_count": null,
      "outputs": []
    },
    {
      "cell_type": "code",
      "source": [
        ""
      ],
      "metadata": {
        "id": "mzbUEdCX9R6D"
      },
      "execution_count": null,
      "outputs": []
    },
    {
      "cell_type": "code",
      "source": [
        ""
      ],
      "metadata": {
        "id": "FQaSPyjD9R-L"
      },
      "execution_count": null,
      "outputs": []
    }
  ]
}